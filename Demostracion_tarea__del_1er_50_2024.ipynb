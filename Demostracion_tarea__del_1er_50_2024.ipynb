{
  "nbformat": 4,
  "nbformat_minor": 0,
  "metadata": {
    "colab": {
      "provenance": [],
      "authorship_tag": "ABX9TyMP65r94LntILxLG+Wf0l13",
      "include_colab_link": true
    },
    "kernelspec": {
      "name": "python3",
      "display_name": "Python 3"
    },
    "language_info": {
      "name": "python"
    }
  },
  "cells": [
    {
      "cell_type": "markdown",
      "metadata": {
        "id": "view-in-github",
        "colab_type": "text"
      },
      "source": [
        "<a href=\"https://colab.research.google.com/github/kevincallep/DEMO_TEREA_1ER_50_2024/blob/main/Demostracion_tarea__del_1er_50_2024.ipynb\" target=\"_parent\"><img src=\"https://colab.research.google.com/assets/colab-badge.svg\" alt=\"Open In Colab\"/></a>"
      ]
    },
    {
      "cell_type": "markdown",
      "source": [
        "#**Ejercicio para demostrar la tarea 2 del 1er 50%**\n",
        "INTEGRANTES:\n",
        "1. elemento de la lista\n",
        "2. elemento de la lista\n",
        "\n",
        "\n",
        "---\n",
        "\n"
      ],
      "metadata": {
        "id": "vR5cHYzRoLA5"
      }
    },
    {
      "cell_type": "markdown",
      "source": [
        "## EJERCICIO 1: CAIDA LIBRE CON RESISTENCIA AL AIRE\n",
        "[UN SIMPLE PROBLEMA: CAIDA LIBRE CON REISTENCIA AL AIRE ](https://docs.google.com/document/d/1zn3dGrJUdYkUNsa866WgiVZG9JmMftdr95zmAmt-KF8/edit?usp=sharing)\n",
        "\n",
        "##**UN SIMPLE PROBLEMA: CAIDA LIBRE CON RESISTENCIA AL AIRE**\n",
        "\n",
        "##**PLANTEAMIENTO DEL PROGRAMA**:\n",
        "\n",
        "Se requiere desarrollar un programa que calcule la velocidad de un objeto en caída libre con resistencia del aire. El programa deberá permitir al usuario ingresar la masa del objeto en kilogramos, el coeficiente de resistencia del aire en kg/s, y el tiempo de caída en segundos. A partir de estos datos, el programa calculará la velocidad del objeto en función del tiempo.\n",
        "Además, el programa deberá mostrar la velocidad terminal del objeto.\n",
        "\n",
        "##**Especificaciones**:\n",
        "\n",
        "El programa debe solicitar los siguientes datos:\n",
        "1. Masa del objeto en kilogramos.\n",
        "Coeficiente de resistencia del aire en kg/s\n",
        "2. Tiempo de caída en segundos.\n",
        "\n",
        "##**El programa debe calcular**:\n",
        "1. La velocidad del objeto después del tiempo especificado.\n",
        "2. La velocidad terminal del objeto.\n",
        "Considerar que g=9.8m/s2, la aceleración de la gravedad.\n",
        "\n",
        "##**PROBANDO EL PROGRAMA**:\n",
        "\n",
        "Si se ingresa una masa de 80 kg, un coeficiente de resistencia del aire de 12 kg/s, y un tiempo de caída de 10 segundos, el programa debería calcular:\n",
        "La velocidad del objeto después de 10 segundos.\n",
        "La velocidad terminal del objeto.\n"
      ],
      "metadata": {
        "id": "EVbOoyESN_Xn"
      }
    },
    {
      "cell_type": "code",
      "source": [
        "# prompt: Escribe codigo de python que resuelva el ejercicio\"UN SIMPLE PROBLEMA: CAIDA LIBRE CON RESISTENCIA AL AIRE\", por favor no utilices funciones definidas por el usuario.\n",
        "import math # import the math module\n",
        "# Ingreso de datos por el usuario\n",
        "masa = float(input(\"Ingrese la masa del objeto en kilogramos: \"))\n",
        "coeficiente_resistencia = float(input(\"Ingrese el coeficiente de resistencia del aire en kg/s: \"))\n",
        "tiempo = float(input(\"Ingrese el tiempo de caída en segundos: \"))\n",
        "\n",
        "# Constante de aceleración de la gravedad\n",
        "g = 9.8\n",
        "\n",
        "# Cálculo de la velocidad del objeto después del tiempo especificado\n",
        "velocidad = (g * masa / coeficiente_resistencia) * (1 - math.exp((-coeficiente_resistencia / masa) * tiempo))\n",
        "\n",
        "# Cálculo de la velocidad terminal del objeto\n",
        "velocidad_terminal = (g * masa) / coeficiente_resistencia\n",
        "\n",
        "# Impresión de resultados\n",
        "print(\"La velocidad del objeto después de\", tiempo, \"segundos es:\", velocidad, \"m/s\")\n",
        "print(\"La velocidad terminal del objeto es:\", velocidad_terminal, \"m/s\")\n"
      ],
      "metadata": {
        "colab": {
          "base_uri": "https://localhost:8080/"
        },
        "id": "SXlJzHZas9e6",
        "outputId": "62e88cde-ad28-4493-f1d5-8b7e6e3aaf91"
      },
      "execution_count": 3,
      "outputs": [
        {
          "output_type": "stream",
          "name": "stdout",
          "text": [
            "Ingrese la masa del objeto en kilogramos: 80\n",
            "Ingrese el coeficiente de resistencia del aire en kg/s: 12\n",
            "Ingrese el tiempo de caída en segundos: 10\n",
            "La velocidad del objeto después de 10.0 segundos es: 50.755496203635914 m/s\n",
            "La velocidad terminal del objeto es: 65.33333333333333 m/s\n"
          ]
        }
      ]
    },
    {
      "cell_type": "code",
      "source": [
        "# prompt: escribe el codigo anterior utilizando funciones predefinidas por el usuario\n",
        "\n",
        "import math\n",
        "\n",
        "def calcular_velocidad(masa, coeficiente_resistencia, tiempo):\n",
        "  \"\"\"Calcula la velocidad del objeto en caída libre con resistencia del aire.\n",
        "\n",
        "  Args:\n",
        "    masa: La masa del objeto en kilogramos.\n",
        "    coeficiente_resistencia: El coeficiente de resistencia del aire en kg/s.\n",
        "    tiempo: El tiempo de caída en segundos.\n",
        "\n",
        "  Returns:\n",
        "    La velocidad del objeto después del tiempo especificado.\n",
        "  \"\"\"\n",
        "  g = 9.8\n",
        "  velocidad = (g * masa / coeficiente_resistencia) * (1 - math.exp((-coeficiente_resistencia / masa) * tiempo))\n",
        "  return velocidad\n",
        "\n",
        "\n",
        "def calcular_velocidad_terminal(masa, coeficiente_resistencia):\n",
        "  \"\"\"Calcula la velocidad terminal del objeto en caída libre con resistencia del aire.\n",
        "\n",
        "  Args:\n",
        "    masa: La masa del objeto en kilogramos.\n",
        "    coeficiente_resistencia: El coeficiente de resistencia del aire en kg/s.\n",
        "\n",
        "  Returns:\n",
        "    La velocidad terminal del objeto.\n",
        "  \"\"\"\n",
        "  g = 9.8\n",
        "  velocidad_terminal = (g * masa) / coeficiente_resistencia\n",
        "  return velocidad_terminal\n",
        "\n",
        "\n",
        "if __name__ == \"__main__\":\n",
        "  masa = float(input(\"Ingrese la masa del objeto en kilogramos: \"))\n",
        "  coeficiente_resistencia = float(input(\"Ingrese el coeficiente de resistencia del aire en kg/s: \"))\n",
        "  tiempo = float(input(\"Ingrese el tiempo de caída en segundos: \"))\n",
        "\n",
        "  velocidad = calcular_velocidad(masa, coeficiente_resistencia, tiempo)\n",
        "  velocidad_terminal = calcular_velocidad_terminal(masa, coeficiente_resistencia)\n",
        "\n",
        "  print(\"La velocidad del objeto después de\", tiempo, \"segundos es:\", velocidad, \"m/s\")\n",
        "  print(\"La velocidad terminal del objeto es:\", velocidad_terminal, \"m/s\")\n"
      ],
      "metadata": {
        "colab": {
          "base_uri": "https://localhost:8080/"
        },
        "id": "9QRbRcB-yPYN",
        "outputId": "2afeb4e7-b8df-4df8-9674-900a9816a4eb"
      },
      "execution_count": 4,
      "outputs": [
        {
          "output_type": "stream",
          "name": "stdout",
          "text": [
            "Ingrese la masa del objeto en kilogramos: 80\n",
            "Ingrese el coeficiente de resistencia del aire en kg/s: 12\n",
            "Ingrese el tiempo de caída en segundos: 10\n",
            "La velocidad del objeto después de 10.0 segundos es: 50.755496203635914 m/s\n",
            "La velocidad terminal del objeto es: 65.33333333333333 m/s\n"
          ]
        }
      ]
    }
  ]
}